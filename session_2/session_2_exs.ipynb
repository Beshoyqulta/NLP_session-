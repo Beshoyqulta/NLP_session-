{
 "cells": [
  {
   "cell_type": "markdown",
   "id": "2ba4005f",
   "metadata": {},
   "source": [
    "NER and Bag Of Words Exercises "
   ]
  },
  {
   "cell_type": "code",
   "execution_count": 4,
   "id": "dbf67350",
   "metadata": {},
   "outputs": [],
   "source": [
    "text = \"I’m Alex. I work in data. I like reading.\""
   ]
  },
  {
   "cell_type": "code",
   "execution_count": null,
   "id": "51f68bbc",
   "metadata": {},
   "outputs": [],
   "source": []
  },
  {
   "cell_type": "markdown",
   "id": "815665dd",
   "metadata": {},
   "source": [
    "create a bag of words for this "
   ]
  },
  {
   "cell_type": "code",
   "execution_count": 2,
   "id": "77acdf7c",
   "metadata": {},
   "outputs": [],
   "source": [
    "text = \"\"\"The Day I Bombed My Introduction (And What I Learned)\n",
    "“Hi, I’m… uh… John? I like… stuff?”\n",
    "That’s how I introduced myself at a conference once. Spoiler: No one remembered me. Fast-forward to today — I use a 1-minute trick that turns strangers into superfans. Here’s how to make your next introduction unforgettable (no “liking stuff” required).\n",
    "\n",
    "Why Your Brain Hates Basic Intros\n",
    "The “Broken Robot” Effect: “Name, job, hobby” intros are predictable → brains tune out.\n",
    "The Halo Effect: People decide if you’re smart/kind/interesting in seconds — first impressions stick like glue.\n",
    "Science Fix: Use storytelling + curiosity to hijack their attention.\n",
    "The 3-Part Formula (Steal This!)\n",
    "1. The Hook: Start With a Story, Not Your Name\n",
    "Bad: “Hi, I’m Sarah, a marketer from Chicago.”\n",
    "Better: “I once accidentally emailed 10,000 customers a cat meme. Now I teach companies how to avoid my mistakes.”\n",
    "\n",
    "Why: Stories activate the brain’s “movie mode” → you’re memorable.\n",
    "2. The Highlight: Add a “WTF” Detail\n",
    "Bad: “I love hiking.”\n",
    "Better: “I climbed a mountain in flip-flops to prove my mom wrong.”\n",
    "\n",
    "Why: Quirky details stick 5x longer (Journal of Experimental Psychology).\n",
    "3. The Handoff: Make It About Them\n",
    "Bad: “Nice to meet you!”\n",
    "Better: “What’s the weirdest hobby you’ve tried?”\n",
    "\n",
    "Why: Questions force their brain to engage → they associate you with curiosity.\n",
    "\"\"\""
   ]
  },
  {
   "cell_type": "code",
   "execution_count": null,
   "id": "8826e02d",
   "metadata": {},
   "outputs": [],
   "source": []
  },
  {
   "cell_type": "code",
   "execution_count": null,
   "id": "17686157",
   "metadata": {},
   "outputs": [],
   "source": []
  },
  {
   "cell_type": "code",
   "execution_count": null,
   "id": "3153fa13",
   "metadata": {},
   "outputs": [],
   "source": []
  },
  {
   "cell_type": "markdown",
   "id": "c57eb35a",
   "metadata": {},
   "source": [
    "TF-IDF"
   ]
  },
  {
   "cell_type": "markdown",
   "id": "6fba7c20",
   "metadata": {},
   "source": [
    "Implment TF-IDF function from scratch"
   ]
  }
 ],
 "metadata": {
  "kernelspec": {
   "display_name": "Python 3",
   "language": "python",
   "name": "python3"
  },
  "language_info": {
   "codemirror_mode": {
    "name": "ipython",
    "version": 3
   },
   "file_extension": ".py",
   "mimetype": "text/x-python",
   "name": "python",
   "nbconvert_exporter": "python",
   "pygments_lexer": "ipython3",
   "version": "3.12.10"
  }
 },
 "nbformat": 4,
 "nbformat_minor": 5
}
